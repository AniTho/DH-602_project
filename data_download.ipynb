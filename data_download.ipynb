{
 "cells": [
  {
   "cell_type": "code",
   "execution_count": 1,
   "id": "3ad385f4",
   "metadata": {},
   "outputs": [
    {
     "name": "stdout",
     "output_type": "stream",
     "text": [
      "Connected\n"
     ]
    }
   ],
   "source": [
    "import base64\n",
    "import requests\n",
    "import json\n",
    "import urllib.request\n",
    "import shutil\n",
    "from pathlib import Path\n",
    "from tqdm.notebook import tqdm \n",
    "\n",
    "# Encode our credentials then convert it to a string.\n",
    "credentials = base64.b64encode(b'aniketthomas27:ANDroid@1234!!').decode('utf-8')\n",
    "\n",
    "# Create the headers we will be using for all requests.\n",
    "headers = {\n",
    "    'Authorization': 'Basic ' + credentials,\n",
    "    'User-Agent': 'Example Client',\n",
    "    'Accept': 'application/json'\n",
    "}\n",
    "\n",
    "# Send Http request\n",
    "response = requests.get('https://nda.nih.gov/api/package/auth', headers=headers)\n",
    "\n",
    "# Business Logic.\n",
    "\n",
    "# If the response status code does not equal 200\n",
    "# throw an exception up.\n",
    "if response.status_code != requests.codes.ok:\n",
    "    print('failed to authenticate')\n",
    "    response.raise_for_status()\n",
    "else:\n",
    "    print('Connected')"
   ]
  },
  {
   "cell_type": "code",
   "execution_count": 2,
   "id": "7fc3a87d",
   "metadata": {},
   "outputs": [],
   "source": [
    "# Assume code in authentication section is present.\n",
    "\n",
    "packageId = 1226628\n",
    "\n",
    "# Construct the request to get the files of package 1234\n",
    "# URL structure is: https://nda.nih.gov/api/package/{packageId}/files\n",
    "response = requests.get('https://nda.nih.gov/api/package/' + str(packageId) + '/files', headers=headers)\n",
    "\n",
    "# Get the results array from the json response.\n",
    "results = response.json()['results']\n",
    "\n",
    "# Business Logic.\n",
    "\n",
    "files = {}\n",
    "\n",
    "# Add important file data to the files dictionary.\n",
    "for f in results:\n",
    "    files[f['package_file_id']] = {'name': f['download_alias']}"
   ]
  },
  {
   "cell_type": "code",
   "execution_count": 3,
   "id": "f88befe5",
   "metadata": {},
   "outputs": [
    {
     "data": {
      "text/plain": [
       "{10061933998: {'name': 'NDAR_README.pdf'},\n",
       " 10061933997: {'name': 'package_info.txt'},\n",
       " 10061933996: {'name': 'study_538.pdf'},\n",
       " 10061933995: {'name': 'results/18m.zip'},\n",
       " 10061933994: {'name': 'enrollee01.txt'}}"
      ]
     },
     "execution_count": 3,
     "metadata": {},
     "output_type": "execute_result"
    }
   ],
   "source": [
    "files"
   ]
  },
  {
   "cell_type": "code",
   "execution_count": 4,
   "id": "35200ef7",
   "metadata": {},
   "outputs": [],
   "source": [
    "# # Assume code in authentication section is present.\n",
    "# # Assume that one of the retrieving files implementations is present too\n",
    "\n",
    "# # Create a post request to the batch generate presigned urls endpoint.\n",
    "# # Use keys from files dictionary to form a list, which is converted to\n",
    "# # a json array which is posted.\n",
    "# response = requests.post('https://nda.nih.gov/api/package/' + str(packageId) + '/files/batchGeneratePresignedUrls', json=list(files.keys()), headers=headers)\n",
    "\n",
    "# # Get the presigned urls from the response.\n",
    "# results = response.json()['presignedUrls']\n",
    "\n",
    "# # Business Logic.\n",
    "\n",
    "# # Add a download key to the file's data.\n",
    "# for url in results:\n",
    "#     files[url['package_file_id']]['download'] = url['downloadURL']\n",
    "\n",
    "# # Iterate on file id and it's data to perform the downloads.\n",
    "# for file_id, data in files.items():\n",
    "#     name = data['name']\n",
    "#     downloadUrl = data['download']\n",
    "#     # Create a downloads directory\n",
    "#     file = 'downloads/' + name\n",
    "#     # Strip out the file's name for creating non-existent directories\n",
    "#     directory = file[:file.rfind('/')]\n",
    "    \n",
    "#     # Create non-existent directories, package files have their\n",
    "#     # own directory structure, and this will ensure that it is\n",
    "#     # kept in tact when downloading.\n",
    "#     Path(directory).mkdir(parents=True, exist_ok=True)\n",
    "    \n",
    "#     # Initiate the download.\n",
    "#     with urllib.request.urlopen(downloadUrl) as dl, open(file, 'wb') as out_file:\n",
    "#         shutil.copyfileobj(dl, out_file)"
   ]
  },
  {
   "cell_type": "code",
   "execution_count": null,
   "id": "63f72099",
   "metadata": {},
   "outputs": [
    {
     "data": {
      "application/vnd.jupyter.widget-view+json": {
       "model_id": "7707e56b11b843788a39d2f05f4be203",
       "version_major": 2,
       "version_minor": 0
      },
      "text/plain": [
       "Downloading files:   0%|          | 0/5 [00:00<?, ?it/s]"
      ]
     },
     "metadata": {},
     "output_type": "display_data"
    },
    {
     "data": {
      "application/vnd.jupyter.widget-view+json": {
       "model_id": "d395ed4d66f64412abff240567fd2b87",
       "version_major": 2,
       "version_minor": 0
      },
      "text/plain": [
       "NDAR_README.pdf:   0%|          | 0.00/45.7k [00:00<?, ?iB/s]"
      ]
     },
     "metadata": {},
     "output_type": "display_data"
    },
    {
     "data": {
      "application/vnd.jupyter.widget-view+json": {
       "model_id": "d7b56471d4704828994b182b3b5871f3",
       "version_major": 2,
       "version_minor": 0
      },
      "text/plain": [
       "package_info.txt:   0%|          | 0.00/195 [00:00<?, ?iB/s]"
      ]
     },
     "metadata": {},
     "output_type": "display_data"
    }
   ],
   "source": [
    "\n",
    "\n",
    "# Assume code in authentication section is present.\n",
    "# Assume that one of the retrieving files implementations is present too\n",
    "\n",
    "# Create a post request to the batch generate presigned urls endpoint.\n",
    "response = requests.post('https://nda.nih.gov/api/package/' + str(packageId) + '/files/batchGeneratePresignedUrls', json=list(files.keys()), headers=headers)\n",
    "\n",
    "# Get the presigned urls from the response.\n",
    "results = response.json()['presignedUrls']\n",
    "\n",
    "# Business Logic.\n",
    "\n",
    "# Add a download key to the file's data.\n",
    "for url in results:\n",
    "    files[url['package_file_id']]['download'] = url['downloadURL']\n",
    "\n",
    "\n",
    "\n",
    "# Iterate on file id and its data to perform the downloads.\n",
    "for file_id, data in tqdm(files.items(), desc=\"Downloading files\"):\n",
    "    name = data['name']\n",
    "    downloadUrl = data['download']\n",
    "    # Create a downloads directory\n",
    "    file = 'downloads/' + name\n",
    "    # Strip out the file's name for creating non-existent directories\n",
    "    directory = file[:file.rfind('/')]\n",
    "    \n",
    "    # Create non-existent directories, package files have their\n",
    "    # own directory structure, and this will ensure that it is\n",
    "    # kept intact when downloading.\n",
    "    Path(directory).mkdir(parents=True, exist_ok=True)\n",
    "    \n",
    "    # Initiate the download.\n",
    "    with urllib.request.urlopen(downloadUrl) as dl:\n",
    "        total_size = int(dl.headers.get('content-length', 0))\n",
    "        with open(file, 'wb') as out_file:\n",
    "            # Initialize the progress bar for this file\n",
    "            with tqdm(total=total_size, desc=name, unit='iB', unit_scale=True, unit_divisor=1024, leave=False) as bar:\n",
    "                while True:\n",
    "                    buffer = dl.read(1024*1024)  # Read chunks of 1 MB\n",
    "                    if not buffer:\n",
    "                        break\n",
    "                    out_file.write(buffer)\n",
    "                    bar.update(len(buffer))\n"
   ]
  },
  {
   "cell_type": "code",
   "execution_count": null,
   "id": "a73573f0",
   "metadata": {},
   "outputs": [],
   "source": []
  }
 ],
 "metadata": {
  "kernelspec": {
   "display_name": "Python 3 (ipykernel)",
   "language": "python",
   "name": "python3"
  },
  "language_info": {
   "codemirror_mode": {
    "name": "ipython",
    "version": 3
   },
   "file_extension": ".py",
   "mimetype": "text/x-python",
   "name": "python",
   "nbconvert_exporter": "python",
   "pygments_lexer": "ipython3",
   "version": "3.10.12"
  }
 },
 "nbformat": 4,
 "nbformat_minor": 5
}
