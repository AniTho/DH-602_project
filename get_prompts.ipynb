{
 "cells": [
  {
   "cell_type": "markdown",
   "id": "6795af58",
   "metadata": {},
   "source": [
    "### Get Prompts Notebook"
   ]
  },
  {
   "cell_type": "code",
   "execution_count": 25,
   "id": "1e24281f",
   "metadata": {},
   "outputs": [],
   "source": [
    "import pandas as pd\n",
    "import json\n",
    "import pathlib as pl\n",
    "import os\n",
    "import re"
   ]
  },
  {
   "cell_type": "code",
   "execution_count": 10,
   "id": "5c3ce276",
   "metadata": {},
   "outputs": [],
   "source": [
    "def generate_prompts(txt_path, json_path):\n",
    "    txt_path = pl.Path(txt_path)\n",
    "    json_path = pl.Path(json_path)\n",
    "    \n",
    "    df = pd.read_csv(txt_path, sep='|')\n",
    "    df = df.dropna(subset=['ID', 'SIDE', 'V01XRKL', 'V01XRJSL', 'V01XRJSM'])\n",
    "    prompts = []\n",
    "    for _, row in df.iterrows():\n",
    "        id = row['ID']\n",
    "        side = row['SIDE']\n",
    "        \n",
    "        kl_grade = str(row['V01XRKL'])\n",
    "        jsn_lateral = str(row['V01XRJSL'])\n",
    "        jsn_medial = str(row['V01XRJSM'])\n",
    "        \n",
    "        descriptions = {\n",
    "        \"0\": \"Healthy knee image.\",\n",
    "        \"1\": \"Doubtful joint narrowing with possible osteophytic lipping.\",\n",
    "        \"2\": \"Definite presence of osteophytes and possible joint space narrowing.\",\n",
    "        \"3\": \"Multiple osteophytes, definite joint space narrowing, with mild sclerosis.\",\n",
    "        \"4\": \"Large osteophytes, significant joint narrowing, and severe sclerosis.\"\n",
    "        }\n",
    "        kl_description = descriptions[str(int(float(kl_grade)))]\n",
    "#         print(f\"ID: {id}, SIDE: {side}, KL Grade: {kl_grade}, JSN Lateral: {jsn_lateral}, JSN Medial: {jsn_medial}, KL Description: {kl_description}\")\n",
    "\n",
    "        prompt_text = f\"Generate a high-resolution X-ray image of the knee showing detailed anatomy with the following pathological features based on Kellgren and Lawrence grade (KL Grade): {kl_grade}, depicting {kl_description} Joint space narrowing in the lateral compartment: {jsn_lateral}, and medial compartment: {jsn_medial} reflecting cartilage degradation. Ensure clear visibility of bone contours, joint space, and any relevant pathological features indicative of the specified grades.\"\n",
    "\n",
    "        prompt_data = {\n",
    "            \"ID\": id,\n",
    "            \"SIDE\": side,\n",
    "            \"PROMPT\": prompt_text\n",
    "        }\n",
    "        prompts.append(prompt_data)\n",
    "\n",
    "    with open(json_path, 'w') as f:\n",
    "        json.dump(prompts, f, indent=4)\n",
    "        \n",
    "    with open(json_path, 'r') as f:\n",
    "        data = json.load(f)\n",
    "        print(f\"Prompts have been saved to {json_path}, total prompts: {len(data)}\")\n",
    "    \n",
    "    return prompts"
   ]
  },
  {
   "cell_type": "code",
   "execution_count": 11,
   "id": "5ef47cbb",
   "metadata": {},
   "outputs": [
    {
     "name": "stdout",
     "output_type": "stream",
     "text": [
      "Prompts have been saved to prompts.json, total prompts: 8407\n"
     ]
    }
   ],
   "source": [
    "prompts = generate_prompts(\"kxr_sq_bu01.txt\", \"prompts.json\")"
   ]
  },
  {
   "cell_type": "code",
   "execution_count": 20,
   "id": "c13e4bbe",
   "metadata": {},
   "outputs": [],
   "source": [
    "def search_jpg_files(directory):\n",
    "    if not directory.exists():\n",
    "        return None \n",
    "    \n",
    "    for file_path in directory.iterdir():\n",
    "        if file_path.is_dir():\n",
    "            for sub_file in file_path.iterdir():\n",
    "                if sub_file.is_file() and re.search(r\"1x1\\.jpg$\", sub_file.name):\n",
    "                    return sub_file\n",
    "    return None"
   ]
  },
  {
   "cell_type": "code",
   "execution_count": 26,
   "id": "1ab311f6",
   "metadata": {},
   "outputs": [],
   "source": [
    "def searchTextAndUpdateJson(json_path):\n",
    "\n",
    "    with open(json_path, 'r') as f:\n",
    "        prompts = json.load(f)\n",
    "    \n",
    "    image_count = 0  \n",
    "\n",
    "    for prompt in prompts:\n",
    "        patient_id = prompt['ID']\n",
    "\n",
    "        path_1 = pl.Path(f\"./datasets/OAI12Month/downloads/results/1.C.2/{patient_id}\")\n",
    "        path_2 = pl.Path(f\"./datasets/OAI12Month/downloads/results/1.E.1/{patient_id}\")\n",
    "\n",
    "        image_path = search_jpg_files(path_1)\n",
    "        \n",
    "        if not image_path:\n",
    "            image_path = search_jpg_files(path_2)\n",
    "        \n",
    "        if image_path:\n",
    "            prompt['Image'] = str(image_path)\n",
    "            image_count += 1  \n",
    "\n",
    "    with open(json_path, 'w') as f:\n",
    "        json.dump(prompts, f, indent=4)\n",
    "\n",
    "    print(f\"Updated prompts have been saved to {json_path}, total image paths added: {image_count}\")"
   ]
  },
  {
   "cell_type": "code",
   "execution_count": 27,
   "id": "45af7218",
   "metadata": {},
   "outputs": [
    {
     "name": "stdout",
     "output_type": "stream",
     "text": [
      "Updated prompts have been saved to prompts.json, total image paths added: 8407\n"
     ]
    }
   ],
   "source": [
    "json_path = \"prompts.json\"   \n",
    "searchTextAndUpdateJson(json_path)"
   ]
  },
  {
   "cell_type": "code",
   "execution_count": null,
   "id": "b44fef29",
   "metadata": {},
   "outputs": [
    {
     "name": "stdout",
     "output_type": "stream",
     "text": [
      "Defaulting to user installation because normal site-packages is not writeable\n",
      "Looking in indexes: https://pypi.org/simple, https://pypi.ngc.nvidia.com\n"
     ]
    }
   ],
   "source": [
    "!pip install diffusers transformers accelerate scipy safetensors"
   ]
  },
  {
   "cell_type": "code",
   "execution_count": null,
   "id": "80cbe1b1",
   "metadata": {},
   "outputs": [],
   "source": []
  }
 ],
 "metadata": {
  "kernelspec": {
   "display_name": "Python 3 (ipykernel)",
   "language": "python",
   "name": "python3"
  },
  "language_info": {
   "codemirror_mode": {
    "name": "ipython",
    "version": 3
   },
   "file_extension": ".py",
   "mimetype": "text/x-python",
   "name": "python",
   "nbconvert_exporter": "python",
   "pygments_lexer": "ipython3",
   "version": "3.10.12"
  }
 },
 "nbformat": 4,
 "nbformat_minor": 5
}
